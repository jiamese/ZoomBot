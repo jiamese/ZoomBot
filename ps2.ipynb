{
  "cells": [
    {
      "cell_type": "markdown",
      "metadata": {
        "id": "view-in-github",
        "colab_type": "text"
      },
      "source": [
        "<a href=\"https://colab.research.google.com/github/jiamese/ZoomBot/blob/main/ps2.ipynb\" target=\"_parent\"><img src=\"https://colab.research.google.com/assets/colab-badge.svg\" alt=\"Open In Colab\"/></a>"
      ]
    },
    {
      "cell_type": "markdown",
      "metadata": {
        "id": "U4L0nu8HfZx2"
      },
      "source": [
        "# Problem Set 2\n",
        "#### CMSI 1010: Computer Programming and Lab"
      ]
    },
    {
      "cell_type": "markdown",
      "metadata": {
        "id": "UrHgrgoifZx6"
      },
      "source": [
        "## Important Dates\n",
        "\n",
        " - Released: 2022-09-20 at 12:00 am [PT]\n",
        " - Deadline: 2022-09-29 at 11:59 pm [PT]"
      ]
    },
    {
      "cell_type": "markdown",
      "metadata": {
        "id": "lGWJOUPYfZx7"
      },
      "source": [
        "# Question 1: Reading Notes\n",
        "\n",
        "All readings are from the [_Think Python_ textbook](http://greenteapress.com/thinkpython2/thinkpython2.pdf):\n",
        "* Chapter 3\n",
        "* Sections 5.1-5.3\n",
        "* Sections 6.1-6.4\n",
        "\n",
        "You should also review Sections 1.4-1.5 and 2.5.\n",
        "\n",
        "Once you have studied the reading notes, write a summary in the text cell below."
      ]
    },
    {
      "cell_type": "markdown",
      "metadata": {
        "id": "YZJ_2BvYfZx7"
      },
      "source": [
        "Chapter 3\n",
        "\n",
        "Section 3.1\n",
        "- A function is a sequence of statements that preforms a computation\n",
        "- These functions can be called with an argument in their parenthesis.\n",
        "- After the function runs its course, it often returns a statement\n",
        "\n",
        "Section 3.2\n",
        "Python has built-in functions taht convert values from one type to another\n",
        "\n",
        "Section 3.3\n",
        "- In python, there is a math module that has most of the math functions in it (import math)\n",
        "- "
      ]
    },
    {
      "cell_type": "markdown",
      "metadata": {
        "nbgrader": {
          "grade": false,
          "grade_id": "q1_prompt",
          "locked": true,
          "schema_version": 1,
          "solution": false
        },
        "id": "rA4Gog_jt_Eb"
      },
      "source": [
        "# Question 2\n",
        "\n",
        "In this question, you'll write some coding that performs string manipulation. This is pretty much your warm-up.\n",
        "\n",
        "Remember the first cell block is where you put your answer. There may already be some code there, in which case **don't remove it**; just add what is asked for.\n",
        "\n",
        "All the cells under the first one are autograder cells; don't edit those! But you can run them (using the Run button at the top) to test your own code! If they don't spit out any error messages, then your code works!"
      ]
    },
    {
      "cell_type": "markdown",
      "metadata": {
        "collapsed": true,
        "nbgrader": {
          "grade": false,
          "grade_id": "q1a_prompt",
          "locked": true,
          "points": 10,
          "schema_version": 1,
          "solution": false
        },
        "id": "kmMVb-QCt_Eb"
      },
      "source": [
        "### Part A\n",
        "\n",
        "What's your favorite *positive* number? Create a variable named `favorite_number` and assign it to be your favorite *positive* number."
      ]
    },
    {
      "cell_type": "code",
      "execution_count": 1,
      "metadata": {
        "collapsed": true,
        "nbgrader": {
          "grade": false,
          "grade_id": "q1a",
          "locked": false,
          "schema_version": 1,
          "solution": true
        },
        "id": "wnJvNbNat_Eb",
        "outputId": "7327030a-1422-4572-82e6-3be4cbf4c5fe",
        "colab": {
          "base_uri": "https://localhost:8080/"
        }
      },
      "outputs": [
        {
          "name": "stdout",
          "output_type": "stream",
          "text": [
            "What is your favorite number?-4\n"
          ]
        }
      ],
      "source": [
        "# your code here\n",
        "favorite_number = abs(int(input('What is your favorite number?')))"
      ]
    },
    {
      "cell_type": "code",
      "execution_count": 2,
      "metadata": {
        "collapsed": true,
        "nbgrader": {
          "grade": true,
          "grade_id": "q1a_test",
          "locked": true,
          "points": 6,
          "schema_version": 1,
          "solution": false
        },
        "id": "FwpjbyHKt_Ec",
        "outputId": "b7dec8f6-c3ae-47c6-fb0d-56dc2a0ca1b4",
        "colab": {
          "base_uri": "https://localhost:8080/"
        }
      },
      "outputs": [
        {
          "output_type": "stream",
          "name": "stdout",
          "text": [
            "My favorite number is: 4\n"
          ]
        }
      ],
      "source": [
        "print(\"My favorite number is: \" + str(favorite_number))\n",
        "assert favorite_number >= 0"
      ]
    },
    {
      "cell_type": "markdown",
      "source": [],
      "metadata": {
        "id": "jewx1pPVDUjs"
      }
    },
    {
      "cell_type": "markdown",
      "metadata": {
        "nbgrader": {
          "grade": false,
          "grade_id": "q1b_prompt",
          "locked": true,
          "schema_version": 1,
          "solution": false
        },
        "id": "QDKna--Vt_Ec"
      },
      "source": [
        "### Part B\n",
        "\n",
        "Print out a famous quote! In the code below, create two variables:\n",
        " - one named `famous_person`,\n",
        " - the other named `their_quote`,\n",
        " \n",
        "and assign them to be the name of some famous person and a quote that they said, respectively. Remember: these are *strings*!"
      ]
    },
    {
      "cell_type": "code",
      "execution_count": 3,
      "metadata": {
        "collapsed": true,
        "nbgrader": {
          "grade": false,
          "grade_id": "q1b",
          "locked": false,
          "schema_version": 1,
          "solution": true
        },
        "id": "CL1oDxkJt_Ec"
      },
      "outputs": [],
      "source": [
        "famous_person = \"Jaime Quiogue\"\n",
        "their_quote = \"Your mom is cute\""
      ]
    },
    {
      "cell_type": "markdown",
      "source": [],
      "metadata": {
        "id": "6WFcMKBoY-eM"
      }
    },
    {
      "cell_type": "code",
      "execution_count": 4,
      "metadata": {
        "collapsed": true,
        "nbgrader": {
          "grade": true,
          "grade_id": "q1b_test",
          "locked": true,
          "points": 6,
          "schema_version": 1,
          "solution": false
        },
        "id": "CRKIyPPIt_Ed",
        "outputId": "9522b5dd-71e9-42b4-f0da-dffb1e28d856",
        "colab": {
          "base_uri": "https://localhost:8080/"
        }
      },
      "outputs": [
        {
          "output_type": "stream",
          "name": "stdout",
          "text": [
            "Jaime Quiogue, at age 4, said:\n",
            "\n",
            "\"Your mom is cute\"\n"
          ]
        }
      ],
      "source": [
        "print(\"{}, at age {}, said:\\n\\n\\\"{}\\\"\".format(famous_person, favorite_number, their_quote))\n",
        "\n",
        "assert len(famous_person) > 0\n",
        "assert len(their_quote) > 0"
      ]
    },
    {
      "cell_type": "markdown",
      "metadata": {
        "nbgrader": {
          "grade": false,
          "grade_id": "q1c_prompt",
          "locked": true,
          "schema_version": 1,
          "solution": false
        },
        "id": "U9HXPLwft_Ed"
      },
      "source": [
        "### Part C\n",
        "\n",
        "You're working late on a homework assignment and have copied a few lines from a Wikipedia article. In your tired stupor, your copy/paste skills leave something to be desired. Rather than try to force your mouse hand to stop shaking, you figure it's easier to write a small Python program to strip out errant whitespace from your copy-pasting.\n",
        "\n",
        "**Leaving the code below as-is**, **add more code** that strips away whitespace in the variables `line1`, `line2`, and `line3`. Hint: recall the string method `strip`.\n",
        "\n",
        "In other words, reassign each of the three variables (keeping their names the same, and their respective content otherwise unaltered) so that the leading and trailing whitespace on both ends is removed."
      ]
    },
    {
      "cell_type": "code",
      "execution_count": 15,
      "metadata": {
        "collapsed": true,
        "nbgrader": {
          "grade": false,
          "grade_id": "q1c",
          "locked": false,
          "schema_version": 1,
          "solution": true
        },
        "id": "HCA1_Gj6t_Ed",
        "outputId": "d4c5fd03-56a7-4260-f3b1-4e725afa6edf",
        "colab": {
          "base_uri": "https://localhost:8080/"
        }
      },
      "outputs": [
        {
          "output_type": "stream",
          "name": "stdout",
          "text": [
            "Python supports multiple programming paradigms, including object-oriented, imperative\n",
            "and functional programming or procedural styles. It features a dynamic type\n",
            "system and automatic memory management and has a large and comprehensive standard library.\n"
          ]
        }
      ],
      "source": [
        "line1 = 'Python supports multiple programming paradigms, including object-oriented, imperative\\n'\n",
        "line2 = '  and functional programming or procedural styles. It features a dynamic type\\n'\n",
        "line3 = ' system and automatic memory management and has a large and comprehensive standard library.\\n '\n",
        "\n",
        "### BEGIN SOLUTION\n",
        "new_line1 = line1.strip()\n",
        "print(new_line1)\n",
        "new_line2 = line2.strip()\n",
        "print(new_line2)\n",
        "new_line3 = line3.strip()\n",
        "print(new_line3)\n",
        "\n",
        "\n",
        "\n",
        "### END SOLUTION"
      ]
    },
    {
      "cell_type": "code",
      "execution_count": 5,
      "metadata": {
        "collapsed": true,
        "nbgrader": {
          "grade": true,
          "grade_id": "q1c_test",
          "locked": true,
          "points": 6,
          "schema_version": 1,
          "solution": false
        },
        "id": "88jkEdiYt_Ee",
        "outputId": "73f9c5b5-f585-4627-a3f1-a914d8beef51",
        "colab": {
          "base_uri": "https://localhost:8080/",
          "height": 240
        }
      },
      "outputs": [
        {
          "output_type": "error",
          "ename": "NameError",
          "evalue": "ignored",
          "traceback": [
            "\u001b[0;31m---------------------------------------------------------------------------\u001b[0m",
            "\u001b[0;31mNameError\u001b[0m                                 Traceback (most recent call last)",
            "\u001b[0;32m<ipython-input-5-d465a88f6cc5>\u001b[0m in \u001b[0;36m<module>\u001b[0;34m\u001b[0m\n\u001b[0;32m----> 1\u001b[0;31m \u001b[0;32massert\u001b[0m \u001b[0mline1\u001b[0m\u001b[0;34m[\u001b[0m\u001b[0;34m-\u001b[0m\u001b[0;36m1\u001b[0m\u001b[0;34m]\u001b[0m \u001b[0;34m!=\u001b[0m \u001b[0;34m'\\n'\u001b[0m\u001b[0;34m\u001b[0m\u001b[0;34m\u001b[0m\u001b[0m\n\u001b[0m\u001b[1;32m      2\u001b[0m \u001b[0;32massert\u001b[0m \u001b[0mline2\u001b[0m\u001b[0;34m[\u001b[0m\u001b[0;36m0\u001b[0m\u001b[0;34m]\u001b[0m \u001b[0;34m!=\u001b[0m \u001b[0mline2\u001b[0m\u001b[0;34m[\u001b[0m\u001b[0;36m1\u001b[0m\u001b[0;34m]\u001b[0m \u001b[0;34m!=\u001b[0m \u001b[0;34m' '\u001b[0m\u001b[0;34m\u001b[0m\u001b[0;34m\u001b[0m\u001b[0m\n\u001b[1;32m      3\u001b[0m \u001b[0;32massert\u001b[0m \u001b[0mline2\u001b[0m\u001b[0;34m[\u001b[0m\u001b[0;34m-\u001b[0m\u001b[0;36m1\u001b[0m\u001b[0;34m]\u001b[0m \u001b[0;34m!=\u001b[0m \u001b[0;34m'\\n'\u001b[0m\u001b[0;34m\u001b[0m\u001b[0;34m\u001b[0m\u001b[0m\n\u001b[1;32m      4\u001b[0m \u001b[0;32massert\u001b[0m \u001b[0mline3\u001b[0m\u001b[0;34m[\u001b[0m\u001b[0;36m0\u001b[0m\u001b[0;34m]\u001b[0m \u001b[0;34m!=\u001b[0m \u001b[0;34m' '\u001b[0m\u001b[0;34m\u001b[0m\u001b[0;34m\u001b[0m\u001b[0m\n\u001b[1;32m      5\u001b[0m \u001b[0;32massert\u001b[0m \u001b[0mline3\u001b[0m\u001b[0;34m[\u001b[0m\u001b[0;34m-\u001b[0m\u001b[0;36m1\u001b[0m\u001b[0;34m]\u001b[0m \u001b[0;34m!=\u001b[0m \u001b[0;34m'\\n'\u001b[0m\u001b[0;34m\u001b[0m\u001b[0;34m\u001b[0m\u001b[0m\n",
            "\u001b[0;31mNameError\u001b[0m: name 'line1' is not defined"
          ]
        }
      ],
      "source": [
        "assert line1[-1] != '\\n'\n",
        "assert line2[0] != line2[1] != ' '\n",
        "assert line2[-1] != '\\n'\n",
        "assert line3[0] != ' '\n",
        "assert line3[-1] != '\\n'"
      ]
    },
    {
      "cell_type": "markdown",
      "metadata": {
        "nbgrader": {
          "grade": false,
          "grade_id": "q1d_prompt",
          "locked": true,
          "schema_version": 1,
          "solution": false
        },
        "id": "y-95nGXwt_Ee"
      },
      "source": [
        "### Part D\n",
        "\n",
        "You discover that there are numbers in the text you'd like to be able to parse out for some math down the road. After stripping out the trailing whitespace, convert the numbers to their proper numerical form.\n",
        "\n",
        "Assign them to the variables `num1`, `num2`, and `num3` respectively."
      ]
    },
    {
      "cell_type": "code",
      "execution_count": 6,
      "metadata": {
        "collapsed": true,
        "nbgrader": {
          "grade": false,
          "grade_id": "q1d",
          "locked": false,
          "schema_version": 1,
          "solution": true
        },
        "id": "sIZT7vpSt_Ee",
        "outputId": "47813d4f-6d00-4d84-a579-56b75e021e00",
        "colab": {
          "base_uri": "https://localhost:8080/",
          "height": 240
        }
      },
      "outputs": [
        {
          "output_type": "error",
          "ename": "ValueError",
          "evalue": "ignored",
          "traceback": [
            "\u001b[0;31m---------------------------------------------------------------------------\u001b[0m",
            "\u001b[0;31mValueError\u001b[0m                                Traceback (most recent call last)",
            "\u001b[0;32m<ipython-input-6-3243575df88f>\u001b[0m in \u001b[0;36m<module>\u001b[0;34m\u001b[0m\n\u001b[1;32m      4\u001b[0m \u001b[0;34m\u001b[0m\u001b[0m\n\u001b[1;32m      5\u001b[0m \u001b[0;31m### BEGIN SOLUTION\u001b[0m\u001b[0;34m\u001b[0m\u001b[0;34m\u001b[0m\u001b[0;34m\u001b[0m\u001b[0m\n\u001b[0;32m----> 6\u001b[0;31m \u001b[0mnum1\u001b[0m \u001b[0;34m=\u001b[0m \u001b[0mint\u001b[0m\u001b[0;34m(\u001b[0m\u001b[0mline1\u001b[0m\u001b[0;34m)\u001b[0m\u001b[0;34m\u001b[0m\u001b[0;34m\u001b[0m\u001b[0m\n\u001b[0m\u001b[1;32m      7\u001b[0m \u001b[0mprint\u001b[0m\u001b[0;34m(\u001b[0m\u001b[0mnum1\u001b[0m\u001b[0;34m)\u001b[0m\u001b[0;34m\u001b[0m\u001b[0;34m\u001b[0m\u001b[0m\n\u001b[1;32m      8\u001b[0m \u001b[0;31m### END SOLUTION\u001b[0m\u001b[0;34m\u001b[0m\u001b[0;34m\u001b[0m\u001b[0;34m\u001b[0m\u001b[0m\n",
            "\u001b[0;31mValueError\u001b[0m: invalid literal for int() with base 10: ' 495.59863 \\n'"
          ]
        }
      ],
      "source": [
        "line1 = ' 495.59863 \\n'\n",
        "line2 = '\\t134  '\n",
        "line3 = '\\n\\t -5.4 \\t'\n",
        "\n",
        "### BEGIN SOLUTION\n",
        "num1 = int(line1)\n",
        "print(num1)\n",
        "### END SOLUTION"
      ]
    },
    {
      "cell_type": "code",
      "execution_count": null,
      "metadata": {
        "collapsed": true,
        "nbgrader": {
          "grade": true,
          "grade_id": "q1d_test",
          "locked": true,
          "points": 6,
          "schema_version": 1,
          "solution": false
        },
        "id": "4itWcsrmt_Ee"
      },
      "outputs": [],
      "source": [
        "assert num1 > 495 and num1 < 496\n",
        "assert num2 == 134\n",
        "assert num3 > -6 and num3 < -5"
      ]
    },
    {
      "cell_type": "markdown",
      "metadata": {
        "nbgrader": {
          "grade": false,
          "grade_id": "q1e_prompt",
          "locked": true,
          "schema_version": 1,
          "solution": false
        },
        "id": "DdOcwgjSt_Ef"
      },
      "source": [
        "### Part E\n",
        "\n",
        "Take the `number` below, find its square root, convert it to a string, and then assign it to a variable named `str_version`.\n",
        "\n",
        "You **must use the correct arithmetic operator for the square root (hint: recall that arithmetic operators include add/subtract, multiply/divide, exponents, and remainders), as well as the correct casting function for the string conversion**.\n",
        "\n",
        "**No imports allowed!**"
      ]
    },
    {
      "cell_type": "code",
      "execution_count": null,
      "metadata": {
        "collapsed": true,
        "nbgrader": {
          "grade": false,
          "grade_id": "q1e",
          "locked": false,
          "schema_version": 1,
          "solution": true
        },
        "id": "RLxoC3Ijt_Ef"
      },
      "outputs": [],
      "source": [
        "number = 3.14159265359\n",
        "\n",
        "### BEGIN SOLUTION\n",
        "\n",
        "### END SOLUTION"
      ]
    },
    {
      "cell_type": "code",
      "execution_count": null,
      "metadata": {
        "collapsed": true,
        "nbgrader": {
          "grade": true,
          "grade_id": "q1e_test",
          "locked": true,
          "points": 6,
          "schema_version": 1,
          "solution": false
        },
        "id": "EfxHfYZPt_Ef"
      },
      "outputs": [],
      "source": [
        "assert str_version == \"1.7724538509055743\""
      ]
    },
    {
      "cell_type": "markdown",
      "metadata": {
        "id": "iZK9hyu8fZyC"
      },
      "source": [
        "# Question 3 : print vs. return"
      ]
    },
    {
      "cell_type": "markdown",
      "metadata": {
        "id": "fHz-ebrXfZyC"
      },
      "source": [
        "### Part A\n",
        "Run the code cell below."
      ]
    },
    {
      "cell_type": "code",
      "execution_count": 17,
      "metadata": {
        "id": "D91s-ri0fZyC"
      },
      "outputs": [],
      "source": [
        "def f1(x):\n",
        "    print(x + 1)\n",
        "\n",
        "def f2(x):\n",
        "    return(x + 1)"
      ]
    },
    {
      "cell_type": "code",
      "execution_count": 4,
      "metadata": {
        "id": "T-6ClPS5fZyC",
        "outputId": "92d23816-482a-4361-e08e-3aef63dd2064",
        "colab": {
          "base_uri": "https://localhost:8080/"
        }
      },
      "outputs": [
        {
          "output_type": "stream",
          "name": "stdout",
          "text": [
            "4\n"
          ]
        }
      ],
      "source": [
        "f1(3)"
      ]
    },
    {
      "cell_type": "code",
      "execution_count": 5,
      "metadata": {
        "id": "nR9_NZ0WfZyD",
        "outputId": "5b2c2f2f-6613-4cd5-ab53-0d0f8d0c20cd",
        "colab": {
          "base_uri": "https://localhost:8080/"
        }
      },
      "outputs": [
        {
          "output_type": "execute_result",
          "data": {
            "text/plain": [
              "4"
            ]
          },
          "metadata": {},
          "execution_count": 5
        }
      ],
      "source": [
        "f2(3)  "
      ]
    },
    {
      "cell_type": "markdown",
      "metadata": {
        "id": "liC3cgbGfZyD"
      },
      "source": [
        " What happens when we call these functions? It looks like they behave in exactly the same way, but they really don’t. Type your answer in the cell below:"
      ]
    },
    {
      "cell_type": "markdown",
      "metadata": {
        "id": "BIlelSNvfZyD"
      },
      "source": [
        "_Your answer here_\n",
        "When you click the function f1(3), x+1 is printed in the function, but in f2(3) the function returns the value and is printed outside the funciton"
      ]
    },
    {
      "cell_type": "markdown",
      "metadata": {
        "id": "iCcVWYWvfZyD"
      },
      "source": [
        "### Part B\n",
        "Now run this code cell"
      ]
    },
    {
      "cell_type": "code",
      "execution_count": 9,
      "metadata": {
        "id": "o0YArc2nfZyD",
        "outputId": "c7079aa2-8274-47d8-c07a-06dfffc11750",
        "colab": {
          "base_uri": "https://localhost:8080/"
        }
      },
      "outputs": [
        {
          "output_type": "stream",
          "name": "stdout",
          "text": [
            "4\n"
          ]
        }
      ],
      "source": [
        "a = f1(3)\n",
        "b = f2(3)"
      ]
    },
    {
      "cell_type": "code",
      "execution_count": 12,
      "metadata": {
        "id": "Iy_XHc7gfZyD"
      },
      "outputs": [],
      "source": [
        "a"
      ]
    },
    {
      "cell_type": "code",
      "execution_count": 11,
      "metadata": {
        "id": "n5DOyAoTfZyE",
        "outputId": "c6eb1e16-2cfc-47e5-850c-3cb95b365c52",
        "colab": {
          "base_uri": "https://localhost:8080/"
        }
      },
      "outputs": [
        {
          "output_type": "execute_result",
          "data": {
            "text/plain": [
              "4"
            ]
          },
          "metadata": {},
          "execution_count": 11
        }
      ],
      "source": [
        "b    "
      ]
    },
    {
      "cell_type": "markdown",
      "metadata": {
        "id": "Yw-9CaNYfZyE"
      },
      "source": [
        "What are the values of `a` and `b`? Why are they different? Type your answer in the cell below:"
      ]
    },
    {
      "cell_type": "markdown",
      "metadata": {
        "id": "QaKLsoC7fZyE"
      },
      "source": [
        "Similar to the previous question, when you click the function f1(3), x+1 is printed in the function, but in f2(3) the function returns the value and is printed outside the funciton"
      ]
    },
    {
      "cell_type": "markdown",
      "metadata": {
        "id": "gk1PW2dOfZyE"
      },
      "source": [
        "### Part C\n",
        "Run the code cell below"
      ]
    },
    {
      "cell_type": "code",
      "execution_count": 15,
      "metadata": {
        "id": "POv2RA-ufZyE",
        "outputId": "d411753e-05bc-460d-b9a2-4aafc1c5c867",
        "colab": {
          "base_uri": "https://localhost:8080/"
        }
      },
      "outputs": [
        {
          "output_type": "stream",
          "name": "stdout",
          "text": [
            "4\n",
            "None\n"
          ]
        }
      ],
      "source": [
        "print(f1(3))"
      ]
    },
    {
      "cell_type": "code",
      "execution_count": 16,
      "metadata": {
        "id": "PVtnV2B6fZyE",
        "outputId": "41f3d634-b925-49c9-8527-624669d6c559",
        "colab": {
          "base_uri": "https://localhost:8080/"
        }
      },
      "outputs": [
        {
          "output_type": "stream",
          "name": "stdout",
          "text": [
            "4\n"
          ]
        }
      ],
      "source": [
        "print(f2(3))"
      ]
    },
    {
      "cell_type": "markdown",
      "metadata": {
        "id": "WR3I6mwTfZyE"
      },
      "source": [
        " What is the output? Why are you getting this output? Type your answer in the cell below:"
      ]
    },
    {
      "cell_type": "markdown",
      "metadata": {
        "id": "nTiP7wEdfZyE"
      },
      "source": [
        "Because the print statement's for function 1 has no return statement, so ir returns a none. Function 2 has a return statement, so it returns a 4"
      ]
    },
    {
      "cell_type": "markdown",
      "metadata": {
        "id": "zN-N19LafZyF"
      },
      "source": [
        "### Part D\n",
        "You know the drill 😁"
      ]
    },
    {
      "cell_type": "code",
      "execution_count": 18,
      "metadata": {
        "id": "sKwKwJUXfZyF",
        "outputId": "b207fcdf-d387-4bac-f6ea-fbab880f1441",
        "colab": {
          "base_uri": "https://localhost:8080/",
          "height": 187
        }
      },
      "outputs": [
        {
          "output_type": "stream",
          "name": "stdout",
          "text": [
            "4\n"
          ]
        },
        {
          "output_type": "error",
          "ename": "TypeError",
          "evalue": "ignored",
          "traceback": [
            "\u001b[0;31m---------------------------------------------------------------------------\u001b[0m",
            "\u001b[0;31mTypeError\u001b[0m                                 Traceback (most recent call last)",
            "\u001b[0;32m<ipython-input-18-3174c89eb240>\u001b[0m in \u001b[0;36m<module>\u001b[0;34m\u001b[0m\n\u001b[0;32m----> 1\u001b[0;31m \u001b[0mf1\u001b[0m\u001b[0;34m(\u001b[0m\u001b[0;36m3\u001b[0m\u001b[0;34m)\u001b[0m \u001b[0;34m+\u001b[0m \u001b[0;36m1\u001b[0m\u001b[0;34m\u001b[0m\u001b[0;34m\u001b[0m\u001b[0m\n\u001b[0m",
            "\u001b[0;31mTypeError\u001b[0m: unsupported operand type(s) for +: 'NoneType' and 'int'"
          ]
        }
      ],
      "source": [
        "f1(3) + 1"
      ]
    },
    {
      "cell_type": "code",
      "execution_count": 19,
      "metadata": {
        "id": "CJUTTWajfZyF",
        "outputId": "eb890217-49dc-43bb-8532-74b44157964d",
        "colab": {
          "base_uri": "https://localhost:8080/"
        }
      },
      "outputs": [
        {
          "output_type": "execute_result",
          "data": {
            "text/plain": [
              "5"
            ]
          },
          "metadata": {},
          "execution_count": 19
        }
      ],
      "source": [
        "f2(3) + 1"
      ]
    },
    {
      "cell_type": "markdown",
      "metadata": {
        "id": "cRRX3qzEfZyF"
      },
      "source": [
        "Study the output lines.\n",
        "    \n",
        "    1. Why are you getting this output?"
      ]
    },
    {
      "cell_type": "markdown",
      "metadata": {
        "id": "gZyMXf59fZyF"
      },
      "source": [
        "In f1, you're printing f1(3) by itself, so you're not adding f1(3) + 1. In f2(3) + 1, because you're returning the value, you add the value by one."
      ]
    },
    {
      "cell_type": "markdown",
      "metadata": {
        "id": "pOJ6vDXTfZyF"
      },
      "source": [
        "    2. What do all these examples tell us about when we want to return and when we want to print? (or, put another way: When is printing useful? When is returning useful?)  "
      ]
    },
    {
      "cell_type": "markdown",
      "metadata": {
        "id": "_qLOhNhjfZyF"
      },
      "source": [
        "_Your answer here_"
      ]
    },
    {
      "cell_type": "markdown",
      "metadata": {
        "id": "p3h5vb8rfZyF"
      },
      "source": [
        "_Note:_ You might find it more helpful to explicitly `return None` when you don’t want your function to return anything. This way, you’ll always remember that what Python is _actually_ doing is returning `None` if you don’t tell it to return."
      ]
    },
    {
      "cell_type": "markdown",
      "metadata": {
        "id": "sxUhuC8ffZyF"
      },
      "source": [
        "## Question 4: Mystery program\n",
        "\n",
        "(This is problem 6.1 in the book.) _Do not run this program._ Just look at it and determine the output. Trace what’s happening using a **stack diagram**. Find out what the final outcome is, and _show your work_.\n",
        "    "
      ]
    },
    {
      "cell_type": "markdown",
      "metadata": {
        "id": "SKUhUTM-fZyG"
      },
      "source": [
        "    def b(z):\n",
        "        prod = a(z, z)\n",
        "        print(z, prod)\n",
        "        return prod\n",
        "\n",
        "    def a(x, y):\n",
        "        x = x + 1\n",
        "        return x * y\n",
        "\n",
        "    def c(x, y, z):\n",
        "        total = x + y + z\n",
        "        square = b(total) ** 2\n",
        "        return square\n",
        "\n",
        "    x = 1\n",
        "    y = x + 1\n",
        "    print(c(x, y + 3, x + y))"
      ]
    },
    {
      "cell_type": "markdown",
      "metadata": {
        "id": "ln2igOozfZyG"
      },
      "source": [
        "You may either draw the diagram by hand or use a drawing program. If you draw the diagram by hand, take picture or scan it. \n",
        "Upload your image to your google drive and make sure it's a public folder and get the shareable link by right-clicking on the picture and choose 'Get a sharable link'. You just need the id of the image so copy that (the id is between /d/ and /view). ** There is a text cell below but it is invisible, you have to click below to make it show.** Now paste the ID in the link below where it says \"PASTE ID HERE.\""
      ]
    },
    {
      "cell_type": "markdown",
      "metadata": {
        "id": "vzN14obsfZyG"
      },
      "source": [
        "![](https://drive.google.com/uc?export=view&id=PASTE_ID_HERE)"
      ]
    },
    {
      "cell_type": "code",
      "source": [],
      "metadata": {
        "id": "IoJs9wqEhaUD"
      },
      "execution_count": null,
      "outputs": []
    },
    {
      "cell_type": "markdown",
      "metadata": {
        "id": "ewbw5j67fZyG"
      },
      "source": [
        "## Question 5: Guess my number"
      ]
    },
    {
      "cell_type": "markdown",
      "metadata": {
        "id": "0NXm1NitfZyG"
      },
      "source": [
        "Write a Guess My Number! game. In this game, your program will choose a number, and the user tries to guess that number. Here is an example of how the program will work:"
      ]
    },
    {
      "cell_type": "markdown",
      "metadata": {
        "id": "7dNlfcl2fZyG"
      },
      "source": [
        "    Ready to guess? My number is between 0 and 30.\n",
        "    Enter your guess now:\n",
        "    ? 5\n",
        "    Too low!\n",
        "    ? 20\n",
        "    Too high!\n",
        "    ? 13\n",
        "    Too low!\n",
        "    ? 17\n",
        "    Correct! You win!  "
      ]
    },
    {
      "cell_type": "markdown",
      "metadata": {
        "id": "6BlkDDrofZyG"
      },
      "source": [
        "For this game, we will need to generate a random number for the user to guess. For this, import the `random` module (review the lab notebooks for a refresher). We’ll use this module to generate a random integer using the function `randint` as follows: `random.randint(lo, hi)`, where `lo` and `hi` are integers that tell the code the range in which to generate a random integer (this range is inclusive). Let’s use 0 to 30 for now."
      ]
    },
    {
      "cell_type": "markdown",
      "metadata": {
        "id": "huA1CW9vfZyG"
      },
      "source": [
        "Write a function `guess_compare` that asks the user for a guess (remember how to get user input?), then compares that guess with the correct number and prints out `Too low!`, `Too high!`, or `Correct!`\n",
        "\n",
        "Give the user five guesses. If the user has not yet guessed the number, print out the correct answer. _Hint: Your function `guess_compare` will need to return whether the guess was correct._\n",
        "    \n",
        "Test your game."
      ]
    },
    {
      "cell_type": "code",
      "execution_count": null,
      "metadata": {
        "id": "98W73eVlfZyH"
      },
      "outputs": [],
      "source": [
        "import random\n",
        "lo = 0\n",
        "hi = 30\n",
        "\n",
        "\n",
        "\n",
        "random.randint(lo, hi)\n",
        "num = int(input('Guess the number!'))\n",
        "\n",
        "def guess_compare(x):\n",
        "  if(num == x):\n",
        "    print(\"Correct!\")\n",
        "  if(num < x):\n",
        "    print(\"Too low!\")\n",
        "  if(num > x):\n",
        "    print(\"Too high!\")\n",
        "\n",
        "guess_compare(num)\n",
        "\n"
      ]
    }
  ],
  "metadata": {
    "kernelspec": {
      "display_name": "Python 3",
      "language": "python",
      "name": "python3"
    },
    "language_info": {
      "codemirror_mode": {
        "name": "ipython",
        "version": 3
      },
      "file_extension": ".py",
      "mimetype": "text/x-python",
      "name": "python",
      "nbconvert_exporter": "python",
      "pygments_lexer": "ipython3",
      "version": "3.8.5"
    },
    "colab": {
      "provenance": [],
      "include_colab_link": true
    }
  },
  "nbformat": 4,
  "nbformat_minor": 0
}